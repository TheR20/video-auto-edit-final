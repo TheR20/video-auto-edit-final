{
 "cells": [
  {
   "cell_type": "code",
   "execution_count": 4,
   "metadata": {},
   "outputs": [],
   "source": [
    "import os\n",
    "import numpy as np\n",
    "import moviepy.editor as mp\n",
    "from googletrans import Translator\n",
    "from gtts import gTTS\n",
    "import subprocess\n",
    "from TTS.api import TTS\n",
    "import torch\n",
    "from IPython.display import Audio, display\n",
    "import whisper\n",
    "import librosa\n",
    "import soundfile as sf\n",
    "from moviepy.editor import TextClip\n",
    "from moviepy.editor import CompositeVideoClip\n",
    "import soundfile as sf\n",
    "from moviepy.editor import VideoFileClip, AudioFileClip, TextClip, CompositeVideoClip\n",
    "import re\n",
    "from PIL import ImageFont\n",
    "\n",
    "nombre_descargado = \"video7.mp4\"\n",
    "ruta_carpeta_principal = \"C://Users//R20//Desktop//videostraduccidos//\"\n",
    "ruta_carpeta_audios_esp = \"audios_creados//audio_esp.wav\"\n",
    "ruta_carpeta_audios_ing = \"audios_creados//audio_ing.wav\"\n",
    "ruta_carpeta_audios_fin = \"audios_creados//audio_fin.wav\"\n",
    "ruta_carpeta_videofin = \"videos_creados//\" + nombre_descargado\n",
    "nombre_video = \"videos_descargados//\" + nombre_descargado\n",
    "\n",
    "rutaVideo = ruta_carpeta_principal + nombre_video\n",
    "rutaAudioIngles = ruta_carpeta_principal + ruta_carpeta_audios_ing\n",
    "rutaAudioGenerado =  ruta_carpeta_principal + ruta_carpeta_audios_esp\n",
    "rutaAudioGeneradoNuevaVelocidad = ruta_carpeta_principal + ruta_carpeta_audios_fin\n",
    "ruta_video_final = ruta_carpeta_principal + ruta_carpeta_videofin\n",
    "\n",
    "target_language = \"Japanese\" \n",
    "# Mapping between full names and ISO 639-1 codes\n",
    "language_mapping = {'English': 'en', 'Spanish': 'es', 'Chinese (Simplified)': 'zh-cn' , 'Japanese': 'ja' }"
   ]
  },
  {
   "cell_type": "code",
   "execution_count": 5,
   "metadata": {},
   "outputs": [
    {
     "name": "stdout",
     "output_type": "stream",
     "text": [
      "Audio text:  1.500, es hora y media como máximo tu pueden ser lugar, nosotros vamos a...\n",
      "Translated text: 1,500、それはあなたの最大の場所です、私たちは...\n"
     ]
    }
   ],
   "source": [
    "model = whisper.load_model(\"base\")\n",
    "result = model.transcribe(rutaVideo)\n",
    "\n",
    "whisper_text = result[\"text\"]\n",
    "whisper_language = result['language']\n",
    "\n",
    "print(\"Audio text:\", whisper_text)\n",
    "\n",
    "target_language_code = language_mapping[target_language]\n",
    "from googletrans import Translator\n",
    "translator = Translator()\n",
    "translated_text = translator.translate(whisper_text, src=whisper_language, dest=target_language_code).text\n",
    "print(\"Translated text:\", translated_text)"
   ]
  },
  {
   "cell_type": "code",
   "execution_count": 6,
   "metadata": {},
   "outputs": [
    {
     "name": "stderr",
     "output_type": "stream",
     "text": [
      "WARNING:google.auth.compute_engine._metadata:Compute Engine Metadata server unavailable on attempt 1 of 3. Reason: timed out\n",
      "WARNING:google.auth.compute_engine._metadata:Compute Engine Metadata server unavailable on attempt 2 of 3. Reason: timed out\n",
      "WARNING:google.auth.compute_engine._metadata:Compute Engine Metadata server unavailable on attempt 3 of 3. Reason: timed out\n",
      "WARNING:google.auth._default:Authentication failed using Compute Engine authentication due to unavailable metadata server.\n"
     ]
    },
    {
     "ename": "DefaultCredentialsError",
     "evalue": "Your default credentials were not found. To set up Application Default Credentials, see https://cloud.google.com/docs/authentication/external/set-up-adc for more information.",
     "output_type": "error",
     "traceback": [
      "\u001b[1;31m---------------------------------------------------------------------------\u001b[0m",
      "\u001b[1;31mDefaultCredentialsError\u001b[0m                   Traceback (most recent call last)",
      "Cell \u001b[1;32mIn[6], line 13\u001b[0m\n\u001b[0;32m      7\u001b[0m text_input \u001b[38;5;241m=\u001b[39m texttospeech\u001b[38;5;241m.\u001b[39mSynthesisInput(text\u001b[38;5;241m=\u001b[39mtext)\n\u001b[0;32m      8\u001b[0m voice \u001b[38;5;241m=\u001b[39m texttospeech\u001b[38;5;241m.\u001b[39mVoiceSelectionParams(\n\u001b[0;32m      9\u001b[0m     name\u001b[38;5;241m=\u001b[39m\u001b[38;5;124m\"\u001b[39m\u001b[38;5;124mja-JP-Wavenet-A\u001b[39m\u001b[38;5;124m\"\u001b[39m,  \u001b[38;5;66;03m# Choose a Japanese voice\u001b[39;00m\n\u001b[0;32m     10\u001b[0m     language_code\u001b[38;5;241m=\u001b[39mlanguage_code,\n\u001b[0;32m     11\u001b[0m     ssml_gender\u001b[38;5;241m=\u001b[39mtexttospeech\u001b[38;5;241m.\u001b[39mSsmlVoiceGender\u001b[38;5;241m.\u001b[39mFEMALE  \u001b[38;5;66;03m# Optional: Set gender\u001b[39;00m\n\u001b[0;32m     12\u001b[0m )\n\u001b[1;32m---> 13\u001b[0m client \u001b[38;5;241m=\u001b[39m \u001b[43mtexttospeech\u001b[49m\u001b[38;5;241;43m.\u001b[39;49m\u001b[43mTextToSpeechClient\u001b[49m\u001b[43m(\u001b[49m\u001b[43m)\u001b[49m\n\u001b[0;32m     14\u001b[0m response \u001b[38;5;241m=\u001b[39m client\u001b[38;5;241m.\u001b[39msynthesize_speech(\u001b[38;5;28minput\u001b[39m\u001b[38;5;241m=\u001b[39mtext_input, voice\u001b[38;5;241m=\u001b[39mvoice, audio_config\u001b[38;5;241m=\u001b[39mssml_config)\n\u001b[0;32m     15\u001b[0m \u001b[38;5;28;01mwith\u001b[39;00m \u001b[38;5;28mopen\u001b[39m(\u001b[38;5;124m\"\u001b[39m\u001b[38;5;124moutput.mp3\u001b[39m\u001b[38;5;124m\"\u001b[39m, \u001b[38;5;124m\"\u001b[39m\u001b[38;5;124mwb\u001b[39m\u001b[38;5;124m\"\u001b[39m) \u001b[38;5;28;01mas\u001b[39;00m out:\n",
      "File \u001b[1;32mc:\\Python39\\lib\\site-packages\\google\\cloud\\texttospeech_v1\\services\\text_to_speech\\client.py:652\u001b[0m, in \u001b[0;36mTextToSpeechClient.__init__\u001b[1;34m(self, credentials, transport, client_options, client_info)\u001b[0m\n\u001b[0;32m    647\u001b[0m     credentials \u001b[38;5;241m=\u001b[39m google\u001b[38;5;241m.\u001b[39mauth\u001b[38;5;241m.\u001b[39m_default\u001b[38;5;241m.\u001b[39mget_api_key_credentials(\n\u001b[0;32m    648\u001b[0m         api_key_value\n\u001b[0;32m    649\u001b[0m     )\n\u001b[0;32m    651\u001b[0m Transport \u001b[38;5;241m=\u001b[39m \u001b[38;5;28mtype\u001b[39m(\u001b[38;5;28mself\u001b[39m)\u001b[38;5;241m.\u001b[39mget_transport_class(cast(\u001b[38;5;28mstr\u001b[39m, transport))\n\u001b[1;32m--> 652\u001b[0m \u001b[38;5;28mself\u001b[39m\u001b[38;5;241m.\u001b[39m_transport \u001b[38;5;241m=\u001b[39m \u001b[43mTransport\u001b[49m\u001b[43m(\u001b[49m\n\u001b[0;32m    653\u001b[0m \u001b[43m    \u001b[49m\u001b[43mcredentials\u001b[49m\u001b[38;5;241;43m=\u001b[39;49m\u001b[43mcredentials\u001b[49m\u001b[43m,\u001b[49m\n\u001b[0;32m    654\u001b[0m \u001b[43m    \u001b[49m\u001b[43mcredentials_file\u001b[49m\u001b[38;5;241;43m=\u001b[39;49m\u001b[38;5;28;43mself\u001b[39;49m\u001b[38;5;241;43m.\u001b[39;49m\u001b[43m_client_options\u001b[49m\u001b[38;5;241;43m.\u001b[39;49m\u001b[43mcredentials_file\u001b[49m\u001b[43m,\u001b[49m\n\u001b[0;32m    655\u001b[0m \u001b[43m    \u001b[49m\u001b[43mhost\u001b[49m\u001b[38;5;241;43m=\u001b[39;49m\u001b[38;5;28;43mself\u001b[39;49m\u001b[38;5;241;43m.\u001b[39;49m\u001b[43m_api_endpoint\u001b[49m\u001b[43m,\u001b[49m\n\u001b[0;32m    656\u001b[0m \u001b[43m    \u001b[49m\u001b[43mscopes\u001b[49m\u001b[38;5;241;43m=\u001b[39;49m\u001b[38;5;28;43mself\u001b[39;49m\u001b[38;5;241;43m.\u001b[39;49m\u001b[43m_client_options\u001b[49m\u001b[38;5;241;43m.\u001b[39;49m\u001b[43mscopes\u001b[49m\u001b[43m,\u001b[49m\n\u001b[0;32m    657\u001b[0m \u001b[43m    \u001b[49m\u001b[43mclient_cert_source_for_mtls\u001b[49m\u001b[38;5;241;43m=\u001b[39;49m\u001b[38;5;28;43mself\u001b[39;49m\u001b[38;5;241;43m.\u001b[39;49m\u001b[43m_client_cert_source\u001b[49m\u001b[43m,\u001b[49m\n\u001b[0;32m    658\u001b[0m \u001b[43m    \u001b[49m\u001b[43mquota_project_id\u001b[49m\u001b[38;5;241;43m=\u001b[39;49m\u001b[38;5;28;43mself\u001b[39;49m\u001b[38;5;241;43m.\u001b[39;49m\u001b[43m_client_options\u001b[49m\u001b[38;5;241;43m.\u001b[39;49m\u001b[43mquota_project_id\u001b[49m\u001b[43m,\u001b[49m\n\u001b[0;32m    659\u001b[0m \u001b[43m    \u001b[49m\u001b[43mclient_info\u001b[49m\u001b[38;5;241;43m=\u001b[39;49m\u001b[43mclient_info\u001b[49m\u001b[43m,\u001b[49m\n\u001b[0;32m    660\u001b[0m \u001b[43m    \u001b[49m\u001b[43malways_use_jwt_access\u001b[49m\u001b[38;5;241;43m=\u001b[39;49m\u001b[38;5;28;43;01mTrue\u001b[39;49;00m\u001b[43m,\u001b[49m\n\u001b[0;32m    661\u001b[0m \u001b[43m    \u001b[49m\u001b[43mapi_audience\u001b[49m\u001b[38;5;241;43m=\u001b[39;49m\u001b[38;5;28;43mself\u001b[39;49m\u001b[38;5;241;43m.\u001b[39;49m\u001b[43m_client_options\u001b[49m\u001b[38;5;241;43m.\u001b[39;49m\u001b[43mapi_audience\u001b[49m\u001b[43m,\u001b[49m\n\u001b[0;32m    662\u001b[0m \u001b[43m\u001b[49m\u001b[43m)\u001b[49m\n",
      "File \u001b[1;32mc:\\Python39\\lib\\site-packages\\google\\cloud\\texttospeech_v1\\services\\text_to_speech\\transports\\grpc.py:149\u001b[0m, in \u001b[0;36mTextToSpeechGrpcTransport.__init__\u001b[1;34m(self, host, credentials, credentials_file, scopes, channel, api_mtls_endpoint, client_cert_source, ssl_channel_credentials, client_cert_source_for_mtls, quota_project_id, client_info, always_use_jwt_access, api_audience)\u001b[0m\n\u001b[0;32m    144\u001b[0m             \u001b[38;5;28mself\u001b[39m\u001b[38;5;241m.\u001b[39m_ssl_channel_credentials \u001b[38;5;241m=\u001b[39m grpc\u001b[38;5;241m.\u001b[39mssl_channel_credentials(\n\u001b[0;32m    145\u001b[0m                 certificate_chain\u001b[38;5;241m=\u001b[39mcert, private_key\u001b[38;5;241m=\u001b[39mkey\n\u001b[0;32m    146\u001b[0m             )\n\u001b[0;32m    148\u001b[0m \u001b[38;5;66;03m# The base transport sets the host, credentials and scopes\u001b[39;00m\n\u001b[1;32m--> 149\u001b[0m \u001b[38;5;28;43msuper\u001b[39;49m\u001b[43m(\u001b[49m\u001b[43m)\u001b[49m\u001b[38;5;241;43m.\u001b[39;49m\u001b[38;5;21;43m__init__\u001b[39;49m\u001b[43m(\u001b[49m\n\u001b[0;32m    150\u001b[0m \u001b[43m    \u001b[49m\u001b[43mhost\u001b[49m\u001b[38;5;241;43m=\u001b[39;49m\u001b[43mhost\u001b[49m\u001b[43m,\u001b[49m\n\u001b[0;32m    151\u001b[0m \u001b[43m    \u001b[49m\u001b[43mcredentials\u001b[49m\u001b[38;5;241;43m=\u001b[39;49m\u001b[43mcredentials\u001b[49m\u001b[43m,\u001b[49m\n\u001b[0;32m    152\u001b[0m \u001b[43m    \u001b[49m\u001b[43mcredentials_file\u001b[49m\u001b[38;5;241;43m=\u001b[39;49m\u001b[43mcredentials_file\u001b[49m\u001b[43m,\u001b[49m\n\u001b[0;32m    153\u001b[0m \u001b[43m    \u001b[49m\u001b[43mscopes\u001b[49m\u001b[38;5;241;43m=\u001b[39;49m\u001b[43mscopes\u001b[49m\u001b[43m,\u001b[49m\n\u001b[0;32m    154\u001b[0m \u001b[43m    \u001b[49m\u001b[43mquota_project_id\u001b[49m\u001b[38;5;241;43m=\u001b[39;49m\u001b[43mquota_project_id\u001b[49m\u001b[43m,\u001b[49m\n\u001b[0;32m    155\u001b[0m \u001b[43m    \u001b[49m\u001b[43mclient_info\u001b[49m\u001b[38;5;241;43m=\u001b[39;49m\u001b[43mclient_info\u001b[49m\u001b[43m,\u001b[49m\n\u001b[0;32m    156\u001b[0m \u001b[43m    \u001b[49m\u001b[43malways_use_jwt_access\u001b[49m\u001b[38;5;241;43m=\u001b[39;49m\u001b[43malways_use_jwt_access\u001b[49m\u001b[43m,\u001b[49m\n\u001b[0;32m    157\u001b[0m \u001b[43m    \u001b[49m\u001b[43mapi_audience\u001b[49m\u001b[38;5;241;43m=\u001b[39;49m\u001b[43mapi_audience\u001b[49m\u001b[43m,\u001b[49m\n\u001b[0;32m    158\u001b[0m \u001b[43m\u001b[49m\u001b[43m)\u001b[49m\n\u001b[0;32m    160\u001b[0m \u001b[38;5;28;01mif\u001b[39;00m \u001b[38;5;129;01mnot\u001b[39;00m \u001b[38;5;28mself\u001b[39m\u001b[38;5;241m.\u001b[39m_grpc_channel:\n\u001b[0;32m    161\u001b[0m     \u001b[38;5;28mself\u001b[39m\u001b[38;5;241m.\u001b[39m_grpc_channel \u001b[38;5;241m=\u001b[39m \u001b[38;5;28mtype\u001b[39m(\u001b[38;5;28mself\u001b[39m)\u001b[38;5;241m.\u001b[39mcreate_channel(\n\u001b[0;32m    162\u001b[0m         \u001b[38;5;28mself\u001b[39m\u001b[38;5;241m.\u001b[39m_host,\n\u001b[0;32m    163\u001b[0m         \u001b[38;5;66;03m# use the credentials which are saved\u001b[39;00m\n\u001b[1;32m   (...)\u001b[0m\n\u001b[0;32m    174\u001b[0m         ],\n\u001b[0;32m    175\u001b[0m     )\n",
      "File \u001b[1;32mc:\\Python39\\lib\\site-packages\\google\\cloud\\texttospeech_v1\\services\\text_to_speech\\transports\\base.py:98\u001b[0m, in \u001b[0;36mTextToSpeechTransport.__init__\u001b[1;34m(self, host, credentials, credentials_file, scopes, quota_project_id, client_info, always_use_jwt_access, api_audience, **kwargs)\u001b[0m\n\u001b[0;32m     94\u001b[0m     credentials, _ \u001b[38;5;241m=\u001b[39m google\u001b[38;5;241m.\u001b[39mauth\u001b[38;5;241m.\u001b[39mload_credentials_from_file(\n\u001b[0;32m     95\u001b[0m         credentials_file, \u001b[38;5;241m*\u001b[39m\u001b[38;5;241m*\u001b[39mscopes_kwargs, quota_project_id\u001b[38;5;241m=\u001b[39mquota_project_id\n\u001b[0;32m     96\u001b[0m     )\n\u001b[0;32m     97\u001b[0m \u001b[38;5;28;01melif\u001b[39;00m credentials \u001b[38;5;129;01mis\u001b[39;00m \u001b[38;5;28;01mNone\u001b[39;00m:\n\u001b[1;32m---> 98\u001b[0m     credentials, _ \u001b[38;5;241m=\u001b[39m google\u001b[38;5;241m.\u001b[39mauth\u001b[38;5;241m.\u001b[39mdefault(\n\u001b[0;32m     99\u001b[0m         \u001b[38;5;241m*\u001b[39m\u001b[38;5;241m*\u001b[39mscopes_kwargs, quota_project_id\u001b[38;5;241m=\u001b[39mquota_project_id\n\u001b[0;32m    100\u001b[0m     )\n\u001b[0;32m    101\u001b[0m     \u001b[38;5;66;03m# Don't apply audience if the credentials file passed from user.\u001b[39;00m\n\u001b[0;32m    102\u001b[0m     \u001b[38;5;28;01mif\u001b[39;00m \u001b[38;5;28mhasattr\u001b[39m(credentials, \u001b[38;5;124m\"\u001b[39m\u001b[38;5;124mwith_gdch_audience\u001b[39m\u001b[38;5;124m\"\u001b[39m):\n",
      "File \u001b[1;32mc:\\Python39\\lib\\site-packages\\google\\auth\\_default.py:691\u001b[0m, in \u001b[0;36mdefault\u001b[1;34m(scopes, request, quota_project_id, default_scopes)\u001b[0m\n\u001b[0;32m    683\u001b[0m             _LOGGER\u001b[38;5;241m.\u001b[39mwarning(\n\u001b[0;32m    684\u001b[0m                 \u001b[38;5;124m\"\u001b[39m\u001b[38;5;124mNo project ID could be determined. Consider running \u001b[39m\u001b[38;5;124m\"\u001b[39m\n\u001b[0;32m    685\u001b[0m                 \u001b[38;5;124m\"\u001b[39m\u001b[38;5;124m`gcloud config set project` or setting the \u001b[39m\u001b[38;5;132;01m%s\u001b[39;00m\u001b[38;5;124m \u001b[39m\u001b[38;5;124m\"\u001b[39m\n\u001b[0;32m    686\u001b[0m                 \u001b[38;5;124m\"\u001b[39m\u001b[38;5;124menvironment variable\u001b[39m\u001b[38;5;124m\"\u001b[39m,\n\u001b[0;32m    687\u001b[0m                 environment_vars\u001b[38;5;241m.\u001b[39mPROJECT,\n\u001b[0;32m    688\u001b[0m             )\n\u001b[0;32m    689\u001b[0m         \u001b[38;5;28;01mreturn\u001b[39;00m credentials, effective_project_id\n\u001b[1;32m--> 691\u001b[0m \u001b[38;5;28;01mraise\u001b[39;00m exceptions\u001b[38;5;241m.\u001b[39mDefaultCredentialsError(_CLOUD_SDK_MISSING_CREDENTIALS)\n",
      "\u001b[1;31mDefaultCredentialsError\u001b[0m: Your default credentials were not found. To set up Application Default Credentials, see https://cloud.google.com/docs/authentication/external/set-up-adc for more information."
     ]
    }
   ],
   "source": [
    "from google.cloud import texttospeech\n",
    "\n",
    "\n",
    "text = translated_text  # Your Japanese text\n",
    "language_code = \"ja-JP\"\n",
    "ssml_config = texttospeech.AudioConfig(audio_encoding=texttospeech.AudioEncoding.WAV)\n",
    "text_input = texttospeech.SynthesisInput(text=text)\n",
    "voice = texttospeech.VoiceSelectionParams(\n",
    "    name=\"ja-JP-Wavenet-A\",  # Choose a Japanese voice\n",
    "    language_code=language_code,\n",
    "    ssml_gender=texttospeech.SsmlVoiceGender.FEMALE  # Optional: Set gender\n",
    ")\n",
    "client = texttospeech.TextToSpeechClient()\n",
    "response = client.synthesize_speech(input=text_input, voice=voice, audio_config=ssml_config)\n",
    "with open(\"output.mp3\", \"wb\") as out:\n",
    "    out.write(response.audio_content)\n",
    "\n",
    "video = mp.VideoFileClip(rutaVideo)\n",
    "audio_clip = video.audio\n",
    "audio_clip.write_audiofile(rutaAudioIngles)\n"
   ]
  },
  {
   "cell_type": "code",
   "execution_count": null,
   "metadata": {},
   "outputs": [],
   "source": [
    "translated_text = translated_text.replace('.', '. ').replace('?', '? ')\n",
    "\n",
    "cambio_velocidad = 1.1\n",
    "velocidad_correcta = False\n",
    "y_original, sr_original = librosa.load(rutaAudioIngles)\n",
    "y_generated, sr_generated = librosa.load(rutaAudioGenerado)\n",
    "duration_original = len(y_original) / sr_original\n",
    "duration_original_esp = len(y_generated) / sr_generated\n",
    "print(f\"La duración del audio original es de {duration_original:.2f} segundos\")\n",
    "y_adjusted = y_original\n",
    "resta_originales = duration_original - duration_original_esp\n",
    "\n",
    "speed_ratio = cambio_velocidad \n",
    "sr_adjusted = int(sr_original * speed_ratio) \n",
    "y_adjusted = librosa.effects.time_stretch(y_generated, rate=speed_ratio)\n",
    "duration_adjusted = len(y_adjusted) / sr_adjusted\n",
    "resta = duration_original - duration_adjusted\n",
    "display(resta)\n",
    "\n",
    "sf.write(rutaAudioGeneradoNuevaVelocidad, y_adjusted, sr_original)\n",
    "# Mostrar el audio\n",
    "audio_widget = Audio(filename=rutaAudioGeneradoNuevaVelocidad, autoplay=False)\n",
    "display(audio_widget)"
   ]
  },
  {
   "cell_type": "code",
   "execution_count": null,
   "metadata": {},
   "outputs": [],
   "source": [
    "video = mp.VideoFileClip(rutaVideo)\n",
    "\n",
    "# Cargar el audio en español\n",
    "audio_spanish = mp.AudioFileClip(rutaAudioGeneradoNuevaVelocidad)\n",
    "\n",
    "# Set the audio of the composite clip\n",
    "video.audio = audio_spanish\n",
    "\n",
    "# Save the resulting clip\n",
    "video.write_videofile(ruta_video_final)"
   ]
  }
 ],
 "metadata": {
  "kernelspec": {
   "display_name": "Python 3",
   "language": "python",
   "name": "python3"
  },
  "language_info": {
   "codemirror_mode": {
    "name": "ipython",
    "version": 3
   },
   "file_extension": ".py",
   "mimetype": "text/x-python",
   "name": "python",
   "nbconvert_exporter": "python",
   "pygments_lexer": "ipython3",
   "version": "3.9.13"
  }
 },
 "nbformat": 4,
 "nbformat_minor": 2
}
